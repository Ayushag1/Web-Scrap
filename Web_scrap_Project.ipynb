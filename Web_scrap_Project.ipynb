{
  "nbformat": 4,
  "nbformat_minor": 0,
  "metadata": {
    "colab": {
      "name": "Web_scrap Project.ipynb",
      "provenance": [],
      "include_colab_link": true
    },
    "kernelspec": {
      "name": "python3",
      "display_name": "Python 3"
    },
    "language_info": {
      "name": "python"
    }
  },
  "cells": [
    {
      "cell_type": "markdown",
      "metadata": {
        "id": "view-in-github",
        "colab_type": "text"
      },
      "source": [
        "<a href=\"https://colab.research.google.com/github/Ayushag1/Web-Scrap/blob/main/Web_scrap_Project.ipynb\" target=\"_parent\"><img src=\"https://colab.research.google.com/assets/colab-badge.svg\" alt=\"Open In Colab\"/></a>"
      ]
    },
    {
      "cell_type": "markdown",
      "metadata": {
        "id": "kkhCdp9KBZX-"
      },
      "source": [
        "# Web Scraping\n",
        "\n",
        "## Part 1: Loading Web Pages with 'request'\n",
        "\n",
        "The requests module allows you to send HTTP requests using Python.\n",
        "\n",
        "The HTTP request returns a Response Object with all the response data (content, encoding, status, and so on). One example of getting the HTML of a page:"
      ]
    },
    {
      "cell_type": "code",
      "metadata": {
        "id": "oBNwFM4CAMtD",
        "colab": {
          "base_uri": "https://localhost:8080/"
        },
        "outputId": "a92f349b-6e73-4462-c56c-2e608bb01832"
      },
      "source": [
        "import requests\n",
        "from bs4 import BeautifulSoup\n",
        "import pandas as pd\n",
        "\n",
        "# Make a request to https://codedamn-classrooms.github.io/webscraper-python-codedamn-classroom-website/\n",
        "\n",
        "# Store the result in 'res' variable\n",
        "res = requests.get(\n",
        "    'https://codedamn-classrooms.github.io/webscraper-python-codedamn-classroom-website/')\n",
        "txt = res.text\n",
        "status = res.status_code\n",
        "\n",
        "print(status)\n",
        "# print the result"
      ],
      "execution_count": null,
      "outputs": [
        {
          "output_type": "stream",
          "name": "stdout",
          "text": [
            "200\n"
          ]
        }
      ]
    },
    {
      "cell_type": "markdown",
      "metadata": {
        "id": "GnLa-VlVBil0"
      },
      "source": [
        "## Part 2: Extracting title with BeautifulSoup\n",
        "\n",
        "In this whole classroom, you’ll be using a library called BeautifulSoup in Python to do web scraping. Some features that make BeautifulSoup a powerful solution are:\n",
        "\n",
        "- It provides a lot of simple methods and Pythonic idioms for navigating, searching, and modifying a DOM tree. It doesn't take much code to write an application\n",
        "\n",
        "- Beautiful Soup sits on top of popular Python parsers like lxml and html5lib, allowing you to try out different parsing strategies or trade speed for flexibility.\n",
        "\n",
        "- Basically, BeautifulSoup can parse anything on the web you give it."
      ]
    },
    {
      "cell_type": "code",
      "metadata": {
        "colab": {
          "base_uri": "https://localhost:8080/"
        },
        "id": "DDU7r25uB8ne",
        "outputId": "f6b4eeb4-efba-4392-bb54-ed2521852d53"
      },
      "source": [
        "# Make a request to https://codedamn-classrooms.github.io/webscraper-python-codedamn-classroom-website/\n",
        "page = requests.get(\n",
        "    \"https://codedamn-classrooms.github.io/webscraper-python-codedamn-classroom-website/\")\n",
        "\n",
        "soup = BeautifulSoup(page.content, 'html.parser')\n",
        "\n",
        "# Extract title of page\n",
        "page_title = soup.title.text\n",
        "\n",
        "# print the result\n",
        "print(page_title)"
      ],
      "execution_count": null,
      "outputs": [
        {
          "output_type": "stream",
          "name": "stdout",
          "text": [
            "codedamn Web Scraper demo\n"
          ]
        }
      ]
    },
    {
      "cell_type": "markdown",
      "metadata": {
        "id": "A_083lkPCg5S"
      },
      "source": [
        "## Part 3: Soup-ed body and head\n",
        "\n",
        "You also saw that you have to call .text on these to get the string, but you can print them without calling .text too, and it will give you the full markup. Try to run the example below:"
      ]
    },
    {
      "cell_type": "code",
      "metadata": {
        "id": "ZCY4N2h1CtzX",
        "colab": {
          "base_uri": "https://localhost:8080/"
        },
        "outputId": "112b65b5-f0c3-481d-a653-08448780cfa7"
      },
      "source": [
        "# Extract title of page\n",
        "page_title = soup.title.text\n",
        "\n",
        "# Extract body of page\n",
        "page_body = soup.body\n",
        "\n",
        "# Extract head of page\n",
        "page_head = soup.head\n",
        "\n",
        "# print the result\n",
        "print(page_body)"
      ],
      "execution_count": null,
      "outputs": [
        {
          "output_type": "stream",
          "name": "stdout",
          "text": [
            "<body>\n",
            "<header class=\"navbar navbar-fixed-top navbar-static\" role=\"banner\">\n",
            "<div class=\"container\">\n",
            "<div class=\"navbar-header\">\n",
            "<a data-target=\".side-collapse\" data-target-2=\".side-collapse-container\" data-toggle=\"collapse-side\">\n",
            "<button aria-controls=\"navbar\" aria-expanded=\"false\" class=\"navbar-toggle pull-right collapsed\" data-target=\"#navbar\" data-target-2=\".side-collapse-container\" data-target-3=\".side-collapse\" data-toggle=\"collapse\" type=\"button\">\n",
            "<span class=\"sr-only\">Toggle navigation</span>\n",
            "<span class=\"icon-bar top-bar\"></span>\n",
            "<span class=\"icon-bar middle-bar\"></span>\n",
            "<span class=\"icon-bar bottom-bar\"></span>\n",
            "</button>\n",
            "</a>\n",
            "<div class=\"navbar-brand\">\n",
            "<a href=\"/webscraper-python-codedamn-classroom-website/\"><img alt=\"Web Scraper\" src=\"/webscraper-python-codedamn-classroom-website/logo_white.svg\"/></a>\n",
            "</div>\n",
            "</div>\n",
            "<div class=\"side-collapse in\">\n",
            "<nav class=\"navbar-collapse collapse\" id=\"navbar\" role=\"navigation\">\n",
            "<ul class=\"nav navbar-nav navbar-right\">\n",
            "<li class=\"hidden\">\n",
            "<a href=\"#page-top\"></a>\n",
            "</li>\n",
            "<li>\n",
            "<a class=\"menuitm\" href=\"/webscraper-python-codedamn-classroom-website/\">\n",
            "<p>Web Scraper</p>\n",
            "<div class=\"crta\"></div>\n",
            "</a>\n",
            "</li>\n",
            "<li>\n",
            "<a class=\"menuitm\" href=\"/webscraper-python-codedamn-classroom-website/cloud-scraper\">\n",
            "<p>Cloud Scraper</p>\n",
            "<div class=\"crta\"></div>\n",
            "</a>\n",
            "</li>\n",
            "<li>\n",
            "<a class=\"menuitm\" href=\"/webscraper-python-codedamn-classroom-website/pricing\">\n",
            "<p>Pricing</p>\n",
            "<div class=\"crta\"></div>\n",
            "</a>\n",
            "</li>\n",
            "<li class=\"dropdown\">\n",
            "<a class=\"menuitm dropdown-toggle\" data-toggle=\"dropdown\" href=\"#section3\">\n",
            "<p>Learn</p>\n",
            "<div class=\"crta\"></div>\n",
            "</a>\n",
            "<ul class=\"dropdown-menu\">\n",
            "<li>\n",
            "<a href=\"/webscraper-python-codedamn-classroom-website/documentation\">Documentation</a>\n",
            "</li>\n",
            "<li>\n",
            "<a href=\"/webscraper-python-codedamn-classroom-website/tutorials\">Video Tutorials</a>\n",
            "</li>\n",
            "<li>\n",
            "<a href=\"/webscraper-python-codedamn-classroom-website/how-to-videos\">How to</a>\n",
            "</li>\n",
            "<li>\n",
            "<a href=\"/webscraper-python-codedamn-classroom-website/test-sites\">Test Sites</a>\n",
            "</li>\n",
            "<li>\n",
            "<a href=\"https://forum.webscraper.io/\" rel=\"noopener\" target=\"_blank\">Forum</a>\n",
            "</li>\n",
            "</ul>\n",
            "</li>\n",
            "<li>\n",
            "<a class=\"btn-menu1 install-extension\" href=\"https://chrome.google.com/webstore/detail/web-scraper/jnhgnonknehpejjnehehllkliplmbmhn?hl=en\" rel=\"noopener\" target=\"_blank\">Install</a>\n",
            "</li>\n",
            "<li>\n",
            "<a class=\"btn-menu2\" href=\"https://cloud.webscraper.io/\">Login</a>\n",
            "</li>\n",
            "</ul>\n",
            "</nav>\n",
            "</div>\n",
            "</div>\n",
            "</header>\n",
            "<div class=\"wrapper\">\n",
            "<div class=\"formenu-here container-fluid\"></div>\n",
            "<div class=\"container-fluid blog-hero\">\n",
            "<div class=\"container\">\n",
            "<div class=\"row\">\n",
            "<div class=\"col-md-12\">\n",
            "<h1>Test Sites</h1>\n",
            "</div>\n",
            "</div>\n",
            "</div>\n",
            "</div>\n",
            "<div class=\"container test-site\">\n",
            "<div class=\"row\">\n",
            "<div class=\"col-md-3 sidebar\">\n",
            "<div class=\"navbar-default sidebar\" role=\"navigation\">\n",
            "<div class=\"sidebar-nav navbar-collapse\">\n",
            "<ul class=\"nav\" id=\"side-menu\">\n",
            "<li class=\"active\">\n",
            "<a href=\"/webscraper-python-codedamn-classroom-website/test-sites/e-commerce/allinone\">Home</a>\n",
            "</li>\n",
            "<li>\n",
            "<a class=\"category-link\" href=\"/webscraper-python-codedamn-classroom-website/test-sites/e-commerce/allinone/computers\">\n",
            "\t\t\t\t\t\t\t\t\t\t\tComputers\n",
            "\t\t\t\t\t\t\t\t\t\t\t<span class=\"fa arrow\"></span>\n",
            "</a>\n",
            "</li>\n",
            "<li>\n",
            "<a class=\"category-link\" href=\"/webscraper-python-codedamn-classroom-website/test-sites/e-commerce/allinone/phones\">\n",
            "\t\t\t\t\t\t\t\t\t\t\tPhones\n",
            "\t\t\t\t\t\t\t\t\t\t\t<span class=\"fa arrow\"></span>\n",
            "</a>\n",
            "</li>\n",
            "</ul>\n",
            "</div>\n",
            "</div>\n",
            "</div>\n",
            "<div class=\"col-md-9\">\n",
            "<div class=\"jumbotron\">\n",
            "<h1>E-commerce training site</h1>\n",
            "<p>\n",
            "\t\t\t\t\t\t\t\tWelcome to WebScraper e-commerce site. You can use this site for\n",
            "\t\t\t\t\t\t\t\ttraining to learn how to use the Web Scraper. Items listed here are\n",
            "\t\t\t\t\t\t\t\tnot for sale.\n",
            "\t\t\t\t\t\t\t</p>\n",
            "</div>\n",
            "<h2>Top items being scraped right now</h2>\n",
            "<div class=\"row\">\n",
            "<div class=\"col-sm-4 col-lg-4 col-md-4\">\n",
            "<div class=\"thumbnail\">\n",
            "<img alt=\"item\" class=\"img-responsive\" src=\"/webscraper-python-codedamn-classroom-website/cart2.png\"/>\n",
            "<div class=\"caption\">\n",
            "<h4 class=\"pull-right price\">$1139.54</h4>\n",
            "<h4>\n",
            "<a class=\"title\" href=\"/webscraper-python-codedamn-classroom-website/test-sites/e-commerce/allinone/product/593\" title=\"Asus AsusPro Advanced BU401LA-FA271G Dark Grey\">Asus AsusPro Adv...</a>\n",
            "</h4>\n",
            "<p class=\"description\">\n",
            "\t\t\t\t\t\t\t\t\t\t\tAsus AsusPro Advanced BU401LA-FA271G Dark Grey,\n",
            "\t\t\t\t\t\t\t\t\t\t\t14\", Core i5-4210U, 4GB, 128GB SSD, Win7 Pro 64bit,\n",
            "\t\t\t\t\t\t\t\t\t\t\tENG\n",
            "\t\t\t\t\t\t\t\t\t\t</p>\n",
            "</div>\n",
            "<div class=\"ratings\">\n",
            "<p class=\"pull-right\">7 reviews</p>\n",
            "<p data-rating=\"3\">\n",
            "<span class=\"glyphicon glyphicon-star\"></span>\n",
            "<span class=\"glyphicon glyphicon-star\"></span>\n",
            "<span class=\"glyphicon glyphicon-star\"></span>\n",
            "</p>\n",
            "</div>\n",
            "</div>\n",
            "</div>\n",
            "<div class=\"col-sm-4 col-lg-4 col-md-4\">\n",
            "<div class=\"thumbnail\">\n",
            "<img alt=\"item\" class=\"img-responsive\" src=\"/webscraper-python-codedamn-classroom-website/cart2.png\"/>\n",
            "<div class=\"caption\">\n",
            "<h4 class=\"pull-right price\">$1101.83</h4>\n",
            "<h4>\n",
            "<a class=\"title\" href=\"/webscraper-python-codedamn-classroom-website/test-sites/e-commerce/allinone/product/583\" title=\"Asus ROG Strix GL553VD-DM535T\">Asus ROG Strix G...</a>\n",
            "</h4>\n",
            "<p class=\"description\">\n",
            "\t\t\t\t\t\t\t\t\t\t\tApple MacBook Air 13.3\", Core i5 1.8GHz, 8GB, 128GB\n",
            "\t\t\t\t\t\t\t\t\t\t\tSSD, Intel HD 4000, RUS\n",
            "\t\t\t\t\t\t\t\t\t\t</p>\n",
            "</div>\n",
            "<div class=\"ratings\">\n",
            "<p class=\"pull-right\">4 reviews</p>\n",
            "<p data-rating=\"2\">\n",
            "<span class=\"glyphicon glyphicon-star\"></span>\n",
            "<span class=\"glyphicon glyphicon-star\"></span>\n",
            "</p>\n",
            "</div>\n",
            "</div>\n",
            "</div>\n",
            "<div class=\"col-sm-4 col-lg-4 col-md-4\">\n",
            "<div class=\"thumbnail\">\n",
            "<img alt=\"item\" class=\"img-responsive\" src=\"/webscraper-python-codedamn-classroom-website/cart2.png\"/>\n",
            "<div class=\"caption\">\n",
            "<h4 class=\"pull-right price\">$494.71</h4>\n",
            "<h4>\n",
            "<a class=\"title\" href=\"/webscraper-python-codedamn-classroom-website/test-sites/e-commerce/allinone/product/576\" title=\"Acer Aspire 3 A315-51 Black\">Acer Aspire 3 A3...</a>\n",
            "</h4>\n",
            "<p class=\"description\">\n",
            "\t\t\t\t\t\t\t\t\t\t\tAcer Aspire 3 A315-51 Black, 15.6\" FHD, Core\n",
            "\t\t\t\t\t\t\t\t\t\t\ti3-7100U, 4GB, 500GB + 128GB SSD, Windows 10 Home\n",
            "\t\t\t\t\t\t\t\t\t\t</p>\n",
            "</div>\n",
            "<div class=\"ratings\">\n",
            "<p class=\"pull-right\">2 reviews</p>\n",
            "<p data-rating=\"4\">\n",
            "<span class=\"glyphicon glyphicon-star\"></span>\n",
            "<span class=\"glyphicon glyphicon-star\"></span>\n",
            "<span class=\"glyphicon glyphicon-star\"></span>\n",
            "<span class=\"glyphicon glyphicon-star\"></span>\n",
            "</p>\n",
            "</div>\n",
            "</div>\n",
            "</div>\n",
            "</div>\n",
            "</div>\n",
            "</div>\n",
            "</div>\n",
            "<div class=\"clearfix\"></div>\n",
            "<div class=\"push\"></div>\n",
            "</div>\n",
            "<div class=\"container-fluid footer\" id=\"layout-footer\">\n",
            "<div class=\"container\">\n",
            "<div class=\"row\">\n",
            "<div class=\"col-md-3\">\n",
            "<ul>\n",
            "<li><p>Products</p></li>\n",
            "<li>\n",
            "<a href=\"/webscraper-python-codedamn-classroom-website/\">Web Scraper browser extension</a>\n",
            "</li>\n",
            "<li>\n",
            "<a href=\"/webscraper-python-codedamn-classroom-website/pricing\">Web Scraper Cloud</a>\n",
            "</li>\n",
            "</ul>\n",
            "</div>\n",
            "<div class=\"col-md-3\">\n",
            "<ul>\n",
            "<li><p>Company</p></li>\n",
            "<li>\n",
            "<a href=\"/webscraper-python-codedamn-classroom-website/contact\">Contact</a>\n",
            "</li>\n",
            "<li>\n",
            "<a href=\"/webscraper-python-codedamn-classroom-website/privacy-policy\">Website Privacy Policy</a>\n",
            "</li>\n",
            "<li>\n",
            "<a href=\"/webscraper-python-codedamn-classroom-website/extension-privacy-policy\">Browser Extension Privacy Policy</a>\n",
            "</li>\n",
            "<li>\n",
            "<a href=\"http://webscraperio.us-east-1.elasticbeanstalk.com/downloads/Web_Scraper_Media_Kit.zip\">Media kit</a>\n",
            "</li>\n",
            "<li>\n",
            "<a href=\"/webscraper-python-codedamn-classroom-website/jobs\">Jobs</a>\n",
            "</li>\n",
            "</ul>\n",
            "</div>\n",
            "<div class=\"col-md-3\">\n",
            "<ul>\n",
            "<li><p>Resources</p></li>\n",
            "<li>\n",
            "<a href=\"/webscraper-python-codedamn-classroom-website/blog\">Blog</a>\n",
            "</li>\n",
            "<li>\n",
            "<a href=\"/webscraper-python-codedamn-classroom-website/documentation\">Documentation</a>\n",
            "</li>\n",
            "<li>\n",
            "<a href=\"/webscraper-python-codedamn-classroom-website/tutorials\">Video Tutorials</a>\n",
            "</li>\n",
            "<li>\n",
            "<a href=\"/webscraper-python-codedamn-classroom-website/screenshots\">Screenshots</a>\n",
            "</li>\n",
            "<li>\n",
            "<a href=\"/webscraper-python-codedamn-classroom-website/test-sites\">Test Sites</a>\n",
            "</li>\n",
            "<li>\n",
            "<a href=\"https://forum.webscraper.io/\" rel=\"noopener\" target=\"_blank\">Forum</a>\n",
            "</li>\n",
            "</ul>\n",
            "</div>\n",
            "<div class=\"col-md-3\">\n",
            "<ul>\n",
            "<li><p>CONTACT US</p></li>\n",
            "<li>\n",
            "<a href=\"mailto:info@webscraper.io\">info@webscraper.io</a>\n",
            "</li>\n",
            "<li>\n",
            "\t\t\t\t\t\t\t\tRupniecibas iela 30,<br/>\n",
            "\t\t\t\t\t\t\t\tRiga, Latvia, LV-1045\n",
            "\t\t\t\t\t\t\t</li>\n",
            "</ul>\n",
            "<ul class=\"smedia\">\n",
            "<li>\n",
            "<a href=\"https://www.facebook.com/webscraperio/\" rel=\"noopener\" target=\"_blank\"><img alt=\"Web Scraper on Facebook\" src=\"/webscraper-python-codedamn-classroom-website/fbicon.png\"/></a>\n",
            "</li>\n",
            "<li>\n",
            "<a href=\"https://twitter.com/webscraperio\" rel=\"noopener\" target=\"_blank\"><img alt=\"Web Scraper on Twitter\" src=\"/webscraper-python-codedamn-classroom-website/twicon.png\"/></a>\n",
            "</li>\n",
            "</ul>\n",
            "</div>\n",
            "</div>\n",
            "<div class=\"row\">\n",
            "<div class=\"col-md-12\">\n",
            "<p class=\"copyright\">\n",
            "\t\t\t\t\t\t\tCopyright © 2020 <a href=\"#\">Web Scraper</a> | All rights reserved |\n",
            "\t\t\t\t\t\t\tRemixed by codedamn\n",
            "\t\t\t\t\t\t</p>\n",
            "</div>\n",
            "</div>\n",
            "</div>\n",
            "</div>\n",
            "</body>\n"
          ]
        }
      ]
    },
    {
      "cell_type": "markdown",
      "metadata": {
        "id": "CmL2px8EC6vz"
      },
      "source": [
        "## Part 4: select with BeautifulSoup\n",
        "\n",
        "Once you have the soup variable (like previous labs), you can work with .select on it which is a CSS selector inside BeautifulSoup. That is, you can reach down the DOM tree just like how you will select elements with CSS. Let's look at an example:"
      ]
    },
    {
      "cell_type": "code",
      "metadata": {
        "colab": {
          "base_uri": "https://localhost:8080/"
        },
        "id": "JIzg7XY5DdoH",
        "outputId": "c3a173dc-d138-4c11-c91b-915f736a3cda"
      },
      "source": [
        "soup.select('h1')"
      ],
      "execution_count": null,
      "outputs": [
        {
          "output_type": "execute_result",
          "data": {
            "text/plain": [
              "[<h1>Test Sites</h1>, <h1>E-commerce training site</h1>]"
            ]
          },
          "metadata": {},
          "execution_count": 6
        }
      ]
    },
    {
      "cell_type": "code",
      "metadata": {
        "id": "t4j6A_inrw7C"
      },
      "source": [
        "lst = soup.select('p')"
      ],
      "execution_count": null,
      "outputs": []
    },
    {
      "cell_type": "code",
      "metadata": {
        "colab": {
          "base_uri": "https://localhost:8080/"
        },
        "id": "9Co2_x4tDMPa",
        "outputId": "81ba646d-a580-4f83-d31b-0ca505cb5b3b"
      },
      "source": [
        "# Create all_h1_tags as empty list\n",
        "all_h1_tags = []\n",
        "\n",
        "# Set all_h1_tags to all h1 tags of the soup\n",
        "for element in soup.select('h1'):\n",
        "    all_h1_tags.append(element.text)\n",
        "\n",
        "# Create seventh_p_text and set it to 7th p element text of the page\n",
        "seventh_p_text = soup.select('p')[6].text\n",
        "\n",
        "print(all_h1_tags, seventh_p_text)"
      ],
      "execution_count": null,
      "outputs": [
        {
          "output_type": "stream",
          "name": "stdout",
          "text": [
            "['Test Sites', 'E-commerce training site'] 7 reviews\n"
          ]
        }
      ]
    },
    {
      "cell_type": "markdown",
      "metadata": {
        "id": "f-erh3TmEY8E"
      },
      "source": [
        "## Part 5: Top items being scraped right now\n",
        "\n",
        "Let's go ahead and extract the top items scraped from the URL: https://codedamn-classrooms.github.io/webscraper-python-codedamn-classroom-website/\n",
        "\n",
        "If you open this page in a new tab, you’ll see some top items. Your task is to scrape out their names and store them in a list called top_items. You will also extract out the reviews for these items as well."
      ]
    },
    {
      "cell_type": "code",
      "metadata": {
        "colab": {
          "base_uri": "https://localhost:8080/"
        },
        "id": "dcyHCONIEYMv",
        "outputId": "49f37855-8b74-471a-ef75-cbbc8ddca3dd"
      },
      "source": [
        "info = {\n",
        "        \"title\": [],\n",
        "        \"review\": []\n",
        "}\n",
        "\n",
        "# Extract and store in top_items according to instructions on the left\n",
        "products = soup.select('div.thumbnail')\n",
        "for elem in products:\n",
        "    title = elem.select('a.title')[0].text\n",
        "    review_label = elem.select('div.ratings')[0].text\n",
        "    info[\"title\"].append(title.strip())\n",
        "    info[\"review\"].append(review_label.strip())\n",
        "\n",
        "print(info)"
      ],
      "execution_count": null,
      "outputs": [
        {
          "output_type": "stream",
          "name": "stdout",
          "text": [
            "{'title': ['Asus AsusPro Adv...', 'Asus ROG Strix G...', 'Acer Aspire 3 A3...'], 'review': ['7 reviews', '4 reviews', '2 reviews']}\n"
          ]
        }
      ]
    },
    {
      "cell_type": "markdown",
      "metadata": {
        "id": "z1I4FzciFG5P"
      },
      "source": [
        "Note that this is only one of the solutions. You can attempt this in a different way too. In this solution:\n",
        "\n",
        "- First of all you select all the div.thumbnail elements which gives you a list of individual products\n",
        "- Then you iterate over them\n",
        "- Note that because you're running inside a loop for div.thumbnail already, the h4 > a.title selector would only give you one result, inside a list. You select that list's 0th element and extract out the text.\n",
        "-Finally you strip any extra whitespace and append it to your list."
      ]
    },
    {
      "cell_type": "markdown",
      "metadata": {
        "id": "YQ2O0qm9G6jf"
      },
      "source": [
        "## Final step: Convert to `csv` file"
      ]
    },
    {
      "cell_type": "code",
      "metadata": {
        "id": "BjgRpnpZFGIl"
      },
      "source": [
        "pd.DataFrame(info).to_csv('out.csv', index=False)"
      ],
      "execution_count": null,
      "outputs": []
    },
    {
      "cell_type": "code",
      "metadata": {
        "colab": {
          "base_uri": "https://localhost:8080/",
          "height": 143
        },
        "id": "xg8lWVAGHGqH",
        "outputId": "ebd94251-5aeb-4d4b-8628-d25d5dc7c3de"
      },
      "source": [
        "# CHECK out.csv\n",
        "df = pd.read_csv('out.csv')\n",
        "df"
      ],
      "execution_count": null,
      "outputs": [
        {
          "output_type": "execute_result",
          "data": {
            "text/plain": [
              "                 title     review\n",
              "0  Asus AsusPro Adv...  7 reviews\n",
              "1  Asus ROG Strix G...  4 reviews\n",
              "2  Acer Aspire 3 A3...  2 reviews"
            ],
            "text/html": [
              "\n",
              "  <div id=\"df-4fd043e6-6046-4122-bcfc-ba89cc2d11a0\">\n",
              "    <div class=\"colab-df-container\">\n",
              "      <div>\n",
              "<style scoped>\n",
              "    .dataframe tbody tr th:only-of-type {\n",
              "        vertical-align: middle;\n",
              "    }\n",
              "\n",
              "    .dataframe tbody tr th {\n",
              "        vertical-align: top;\n",
              "    }\n",
              "\n",
              "    .dataframe thead th {\n",
              "        text-align: right;\n",
              "    }\n",
              "</style>\n",
              "<table border=\"1\" class=\"dataframe\">\n",
              "  <thead>\n",
              "    <tr style=\"text-align: right;\">\n",
              "      <th></th>\n",
              "      <th>title</th>\n",
              "      <th>review</th>\n",
              "    </tr>\n",
              "  </thead>\n",
              "  <tbody>\n",
              "    <tr>\n",
              "      <th>0</th>\n",
              "      <td>Asus AsusPro Adv...</td>\n",
              "      <td>7 reviews</td>\n",
              "    </tr>\n",
              "    <tr>\n",
              "      <th>1</th>\n",
              "      <td>Asus ROG Strix G...</td>\n",
              "      <td>4 reviews</td>\n",
              "    </tr>\n",
              "    <tr>\n",
              "      <th>2</th>\n",
              "      <td>Acer Aspire 3 A3...</td>\n",
              "      <td>2 reviews</td>\n",
              "    </tr>\n",
              "  </tbody>\n",
              "</table>\n",
              "</div>\n",
              "      <button class=\"colab-df-convert\" onclick=\"convertToInteractive('df-4fd043e6-6046-4122-bcfc-ba89cc2d11a0')\"\n",
              "              title=\"Convert this dataframe to an interactive table.\"\n",
              "              style=\"display:none;\">\n",
              "        \n",
              "  <svg xmlns=\"http://www.w3.org/2000/svg\" height=\"24px\"viewBox=\"0 0 24 24\"\n",
              "       width=\"24px\">\n",
              "    <path d=\"M0 0h24v24H0V0z\" fill=\"none\"/>\n",
              "    <path d=\"M18.56 5.44l.94 2.06.94-2.06 2.06-.94-2.06-.94-.94-2.06-.94 2.06-2.06.94zm-11 1L8.5 8.5l.94-2.06 2.06-.94-2.06-.94L8.5 2.5l-.94 2.06-2.06.94zm10 10l.94 2.06.94-2.06 2.06-.94-2.06-.94-.94-2.06-.94 2.06-2.06.94z\"/><path d=\"M17.41 7.96l-1.37-1.37c-.4-.4-.92-.59-1.43-.59-.52 0-1.04.2-1.43.59L10.3 9.45l-7.72 7.72c-.78.78-.78 2.05 0 2.83L4 21.41c.39.39.9.59 1.41.59.51 0 1.02-.2 1.41-.59l7.78-7.78 2.81-2.81c.8-.78.8-2.07 0-2.86zM5.41 20L4 18.59l7.72-7.72 1.47 1.35L5.41 20z\"/>\n",
              "  </svg>\n",
              "      </button>\n",
              "      \n",
              "  <style>\n",
              "    .colab-df-container {\n",
              "      display:flex;\n",
              "      flex-wrap:wrap;\n",
              "      gap: 12px;\n",
              "    }\n",
              "\n",
              "    .colab-df-convert {\n",
              "      background-color: #E8F0FE;\n",
              "      border: none;\n",
              "      border-radius: 50%;\n",
              "      cursor: pointer;\n",
              "      display: none;\n",
              "      fill: #1967D2;\n",
              "      height: 32px;\n",
              "      padding: 0 0 0 0;\n",
              "      width: 32px;\n",
              "    }\n",
              "\n",
              "    .colab-df-convert:hover {\n",
              "      background-color: #E2EBFA;\n",
              "      box-shadow: 0px 1px 2px rgba(60, 64, 67, 0.3), 0px 1px 3px 1px rgba(60, 64, 67, 0.15);\n",
              "      fill: #174EA6;\n",
              "    }\n",
              "\n",
              "    [theme=dark] .colab-df-convert {\n",
              "      background-color: #3B4455;\n",
              "      fill: #D2E3FC;\n",
              "    }\n",
              "\n",
              "    [theme=dark] .colab-df-convert:hover {\n",
              "      background-color: #434B5C;\n",
              "      box-shadow: 0px 1px 3px 1px rgba(0, 0, 0, 0.15);\n",
              "      filter: drop-shadow(0px 1px 2px rgba(0, 0, 0, 0.3));\n",
              "      fill: #FFFFFF;\n",
              "    }\n",
              "  </style>\n",
              "\n",
              "      <script>\n",
              "        const buttonEl =\n",
              "          document.querySelector('#df-4fd043e6-6046-4122-bcfc-ba89cc2d11a0 button.colab-df-convert');\n",
              "        buttonEl.style.display =\n",
              "          google.colab.kernel.accessAllowed ? 'block' : 'none';\n",
              "\n",
              "        async function convertToInteractive(key) {\n",
              "          const element = document.querySelector('#df-4fd043e6-6046-4122-bcfc-ba89cc2d11a0');\n",
              "          const dataTable =\n",
              "            await google.colab.kernel.invokeFunction('convertToInteractive',\n",
              "                                                     [key], {});\n",
              "          if (!dataTable) return;\n",
              "\n",
              "          const docLinkHtml = 'Like what you see? Visit the ' +\n",
              "            '<a target=\"_blank\" href=https://colab.research.google.com/notebooks/data_table.ipynb>data table notebook</a>'\n",
              "            + ' to learn more about interactive tables.';\n",
              "          element.innerHTML = '';\n",
              "          dataTable['output_type'] = 'display_data';\n",
              "          await google.colab.output.renderOutput(dataTable, element);\n",
              "          const docLink = document.createElement('div');\n",
              "          docLink.innerHTML = docLinkHtml;\n",
              "          element.appendChild(docLink);\n",
              "        }\n",
              "      </script>\n",
              "    </div>\n",
              "  </div>\n",
              "  "
            ]
          },
          "metadata": {},
          "execution_count": 12
        }
      ]
    },
    {
      "cell_type": "code",
      "metadata": {
        "id": "B2IM7T_HxmCL"
      },
      "source": [
        ""
      ],
      "execution_count": null,
      "outputs": []
    }
  ]
}